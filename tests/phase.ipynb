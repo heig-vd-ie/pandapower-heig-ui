{
 "cells": [
  {
   "cell_type": "code",
   "execution_count": 1,
   "metadata": {},
   "outputs": [],
   "source": [
    "import os\n",
    "from pp_heig_signal import compute_phasor, compute_fft\n",
    "import pandas as pd\n",
    "from scipy.fft import fft\n",
    "import math\n",
    "import numpy as np\n",
    "import logging\n",
    "import coloredlogs\n",
    "import matplotlib as mpl\n",
    "import matplotlib.pyplot as plt\n",
    "project_name =  \"git/pandapower-heig-ui\"\n",
    "project_folder = os.path.join(os.path.expanduser('~'), project_name)\n",
    "os.chdir(project_folder)"
   ]
  },
  {
   "cell_type": "code",
   "execution_count": 2,
   "metadata": {},
   "outputs": [
    {
     "data": {
      "text/plain": [
       "TIME\n",
       "0.000000e+00    3365\n",
       "2.000000e+10     784\n",
       "1.000000e+11     710\n",
       "1.900000e+10      68\n",
       "1.000000e+10      66\n",
       "2.000000e+10      44\n",
       "1.000000e+11      42\n",
       "2.000000e+10      38\n",
       "1.000000e+11      30\n",
       "1.000000e+11      16\n",
       "1.920000e+10       8\n",
       "1.000000e+10       6\n",
       "2.000000e+10       4\n",
       "1.000000e+10       4\n",
       "2.000000e+10       4\n",
       "2.000000e+10       2\n",
       "2.100000e+10       2\n",
       "2.000000e+10       2\n",
       "1.900000e+10       2\n",
       "2.000000e+10       2\n",
       "1.900000e+10       2\n",
       "1.900000e+10       2\n",
       "1.000000e+11       2\n",
       "1.920000e+10       1\n",
       "1.920000e+10       1\n",
       "Name: count, dtype: int64"
      ]
     },
     "execution_count": 2,
     "metadata": {},
     "output_type": "execute_result"
    }
   ],
   "source": [
    "data = pd.read_csv(\"tests/1_ligne_cos_phi_normal.csv\", sep=\";\")\n",
    "\n",
    "(data[\"TIME\"]*1e15).diff().dropna().value_counts(sort=True)\n"
   ]
  },
  {
   "cell_type": "markdown",
   "metadata": {},
   "source": [
    "data_fft =  compute_fft(data=data, time_column=\"time\")"
   ]
  },
  {
   "cell_type": "code",
   "execution_count": null,
   "metadata": {},
   "outputs": [],
   "source": []
  },
  {
   "cell_type": "code",
   "execution_count": null,
   "metadata": {},
   "outputs": [],
   "source": []
  },
  {
   "cell_type": "code",
   "execution_count": 3,
   "metadata": {},
   "outputs": [
    {
     "name": "stderr",
     "output_type": "stream",
     "text": [
      "2023-12-21 14:04:28 B01BPC15 pp_heig_signal[39483] INFO Time steps are not homogenous and have been resampled\n"
     ]
    }
   ],
   "source": [
    "\n",
    "phasor = compute_phasor(data=data,  time_column = \"TIME\")"
   ]
  },
  {
   "cell_type": "code",
   "execution_count": 5,
   "metadata": {},
   "outputs": [
    {
     "data": {
      "text/plain": [
       "{'CH1': (98.72312966663901-6.213580162504495e-15j),\n",
       " 'CH1 Peak Detect': (98.62330963713471+0.297633098660425j),\n",
       " 'CH2': (76.93593210647192-10.615575113737338j),\n",
       " 'CH2 Peak Detect': (76.80017609071074-10.37844658914036j),\n",
       " 'CH3': (4.493628031445932-2.9565997109604787j),\n",
       " 'CH3 Peak Detect': (4.472337299717616-2.9292111480322385j),\n",
       " 'CH4': (3.9224236591641906-2.7981817840296883j),\n",
       " 'CH4 Peak Detect': (3.931874342560587-2.7837995132631734j)}"
      ]
     },
     "execution_count": 5,
     "metadata": {},
     "output_type": "execute_result"
    }
   ],
   "source": [
    "phasor"
   ]
  },
  {
   "cell_type": "code",
   "execution_count": null,
   "metadata": {},
   "outputs": [
    {
     "ename": "SyntaxError",
     "evalue": "invalid syntax (1329265778.py, line 5)",
     "output_type": "error",
     "traceback": [
      "\u001b[0;36m  Cell \u001b[0;32mIn[5], line 5\u001b[0;36m\u001b[0m\n\u001b[0;31m    val =\u001b[0m\n\u001b[0m          ^\u001b[0m\n\u001b[0;31mSyntaxError\u001b[0m\u001b[0;31m:\u001b[0m invalid syntax\n"
     ]
    }
   ],
   "source": [
    "time_column = \"Source\"\n",
    "f = 50\n",
    "round_freq = 4\n",
    "\n",
    "val = "
   ]
  },
  {
   "cell_type": "code",
   "execution_count": null,
   "metadata": {},
   "outputs": [
    {
     "name": "stdout",
     "output_type": "stream",
     "text": [
      "0.0566792002291435 -5.4124329256721304e-17\n",
      "0.03267664798233377 -0.7297217973761272\n",
      "0.007405481697264021 -1.774862181183861\n",
      "0.001497211888262645 -2.887770036206991\n"
     ]
    },
    {
     "data": {
      "text/plain": [
       "[None, None, None, None]"
      ]
     },
     "execution_count": 81,
     "metadata": {},
     "output_type": "execute_result"
    }
   ],
   "source": [
    "list(map(lambda x: print(np.abs(x[1]), np.angle(x[1])), val.items()))"
   ]
  }
 ],
 "metadata": {
  "kernelspec": {
   "display_name": "pp_heig_ui",
   "language": "python",
   "name": "python3"
  },
  "language_info": {
   "codemirror_mode": {
    "name": "ipython",
    "version": 3
   },
   "file_extension": ".py",
   "mimetype": "text/x-python",
   "name": "python",
   "nbconvert_exporter": "python",
   "pygments_lexer": "ipython3",
   "version": "3.10.13"
  }
 },
 "nbformat": 4,
 "nbformat_minor": 2
}
